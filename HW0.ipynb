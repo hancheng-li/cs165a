{
 "cells": [
  {
   "cell_type": "code",
   "execution_count": 1,
   "metadata": {},
   "outputs": [],
   "source": [
    "import numpy as np"
   ]
  },
  {
   "cell_type": "code",
   "execution_count": 19,
   "metadata": {},
   "outputs": [],
   "source": [
    "filename = 'HW0_data_example.txt'\n",
    "with open(filename, 'r') as f:\n",
    "    content = f.read()\n",
    "\n",
    "content = content.replace('<br /><br />', '\\n')\n",
    "lines = content.split('\\n')\n",
    "\n",
    "ocurrences = {}\n",
    "for line in lines:\n",
    "    words = line.split(' ')\n",
    "    for word in words:\n",
    "        if ocurrences.get(word, None) is None:\n",
    "            ocurrences[word] = 1\n",
    "        else:\n",
    "            ocurrences[word] += 1"
   ]
  },
  {
   "cell_type": "code",
   "execution_count": 20,
   "metadata": {},
   "outputs": [
    {
     "name": "stdout",
     "output_type": "stream",
     "text": [
      "[('the', 142), ('and', 100), ('a', 87), ('to', 78), ('of', 78), ('is', 59), ('that', 47), ('in', 43), ('this', 42), ('I', 42)]\n"
     ]
    }
   ],
   "source": [
    "sorted_ocurrences = sorted(ocurrences.items(), key=lambda x: x[1], reverse=True)\n",
    "print(sorted_ocurrences[:10])"
   ]
  },
  {
   "cell_type": "code",
   "execution_count": null,
   "metadata": {},
   "outputs": [],
   "source": []
  }
 ],
 "metadata": {
  "kernelspec": {
   "display_name": "Research",
   "language": "python",
   "name": "python3"
  },
  "language_info": {
   "codemirror_mode": {
    "name": "ipython",
    "version": 3
   },
   "file_extension": ".py",
   "mimetype": "text/x-python",
   "name": "python",
   "nbconvert_exporter": "python",
   "pygments_lexer": "ipython3",
   "version": "3.9.18"
  }
 },
 "nbformat": 4,
 "nbformat_minor": 2
}
